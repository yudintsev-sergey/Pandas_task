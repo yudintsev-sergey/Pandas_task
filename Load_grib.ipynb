{
  "cells": [
    {
      "cell_type": "markdown",
      "metadata": {
        "id": "view-in-github",
        "colab_type": "text"
      },
      "source": [
        "<a href=\"https://colab.research.google.com/github/yudintsev-sergey/Pandas_task/blob/main/Load_grib.ipynb\" target=\"_parent\"><img src=\"https://colab.research.google.com/assets/colab-badge.svg\" alt=\"Open In Colab\"/></a>"
      ]
    },
    {
      "cell_type": "markdown",
      "metadata": {
        "id": "AMInMQRVWp73"
      },
      "source": [
        "Монтируем диск на My Drive"
      ]
    },
    {
      "cell_type": "code",
      "source": [
        "from google.colab import drive\n",
        "drive.mount(\"/ShardDrives/\")"
      ],
      "metadata": {
        "colab": {
          "base_uri": "https://localhost:8080/"
        },
        "id": "PDUeEeIX4hVz",
        "outputId": "95b0c966-232e-4a4b-f214-20b152d2e2e8"
      },
      "execution_count": 2,
      "outputs": [
        {
          "output_type": "stream",
          "name": "stdout",
          "text": [
            "Mounted at /ShardDrives/\n"
          ]
        }
      ]
    },
    {
      "cell_type": "code",
      "execution_count": 3,
      "metadata": {
        "id": "_r76aq2CWhv2"
      },
      "outputs": [],
      "source": [
        "import os\n",
        "import sys"
      ]
    },
    {
      "cell_type": "markdown",
      "source": [
        "Определяем рабочую директорию проекта"
      ],
      "metadata": {
        "id": "e0oKeyEv5NlE"
      }
    },
    {
      "cell_type": "code",
      "source": [
        "path_to_module = '/ShardDrives/MyDrive/Colab Notebooks/Meteo'\n",
        "sys.path.append(path_to_module)\n",
        "os.chdir('/ShardDrives/MyDrive/Colab Notebooks/Meteo/')"
      ],
      "metadata": {
        "id": "1S1Ph3Xt4r-h"
      },
      "execution_count": 4,
      "outputs": []
    },
    {
      "cell_type": "markdown",
      "metadata": {
        "id": "2113ccdfWq18"
      },
      "source": [
        "Импортируем необходимые библиотеки и запускаем отсчет времени, которое алгоритм потратит на выполнение программы"
      ]
    },
    {
      "cell_type": "code",
      "execution_count": 5,
      "metadata": {
        "id": "65NIbXqAWraA",
        "colab": {
          "base_uri": "https://localhost:8080/"
        },
        "outputId": "ca1d976a-504d-4335-a9c6-611d74325fdc"
      },
      "outputs": [
        {
          "output_type": "stream",
          "name": "stdout",
          "text": [
            "Время выполнения фрагмента программы =  2.5987625122070312e-05  сек\n"
          ]
        }
      ],
      "source": [
        "import math as ma\n",
        "import datetime as dt\n",
        "from datetime import timedelta\n",
        "import pytz\n",
        "import numpy as np\n",
        "import pandas as pd\n",
        "import urllib.request\n",
        "from urllib.error import URLError\n",
        "\n",
        "import time\n",
        "start = time.time()\n",
        "end = time.time()\n",
        "print(\"Время выполнения фрагмента программы = \", (end-start), \" сек\")\n",
        "\n"
      ]
    },
    {
      "cell_type": "code",
      "source": [
        "%%capture\n",
        "!pip install pygrib\n",
        "import pygrib\n",
        "print('Done!')"
      ],
      "metadata": {
        "id": "Cuph9tDk75Z6"
      },
      "execution_count": 6,
      "outputs": []
    },
    {
      "cell_type": "code",
      "execution_count": 7,
      "metadata": {
        "id": "j35djZoeWtvi"
      },
      "outputs": [],
      "source": [
        "# @title Создаем форму для ввода данных\n",
        "# @markdown ### Широта ОП:\n",
        "op_lat = 70.1 # @param {type:\"number\"}\n",
        "# @markdown ### Долгота ОП:\n",
        "op_lon = 39.3 # @param {type:\"number\"}\n",
        "# @markdown ### Широта точки цели:\n",
        "tgt_lat = 70.25 # @param {type:\"number\"}\n",
        "# @markdown ### Долгота точки цели:\n",
        "tgt_lon = 39.25 # @param {type:\"number\"}"
      ]
    },
    {
      "cell_type": "code",
      "source": [
        "lat_min = str(ma.floor(op_lat / 0.25) * 0.25)\n",
        "lon_min = str(ma.floor(op_lon / 0.25) * 0.25)\n",
        "lat_max = str(ma.ceil(op_lat / 0.25) * 0.25)\n",
        "lon_max = str(ma.ceil(op_lon / 0.25) * 0.25)\n",
        "print(lat_min, lon_min, lat_max, lon_max)\n"
      ],
      "metadata": {
        "colab": {
          "base_uri": "https://localhost:8080/"
        },
        "id": "t6yQf2Qb7nRn",
        "outputId": "a09b8e20-8b85-4c63-9a36-7c39e30afe59"
      },
      "execution_count": 8,
      "outputs": [
        {
          "output_type": "stream",
          "name": "stdout",
          "text": [
            "70.0 39.25 70.25 39.5\n"
          ]
        }
      ]
    },
    {
      "cell_type": "markdown",
      "source": [
        "Формируем дату в формате ГГГГММДД"
      ],
      "metadata": {
        "id": "x0PPTMEuzrnX"
      }
    },
    {
      "cell_type": "code",
      "source": [
        "d = ''\n",
        "tz_utc = pytz.timezone(\"UTC\")\n",
        "utc_now = dt.datetime.now(tz_utc)\n",
        "current_hour = int(utc_now.strftime(\"%H\"))\n",
        "date = utc_now.strftime(\"%Y%m%d\")\n",
        "print(date)"
      ],
      "metadata": {
        "colab": {
          "base_uri": "https://localhost:8080/"
        },
        "id": "Tq3HKIIAzsVj",
        "outputId": "f7af8e51-cd3a-48f2-ab95-43bfebed4385"
      },
      "execution_count": 9,
      "outputs": [
        {
          "output_type": "stream",
          "name": "stdout",
          "text": [
            "20231212\n"
          ]
        }
      ]
    },
    {
      "cell_type": "markdown",
      "source": [
        "Подключаем локальные функции из файла myfunc.py"
      ],
      "metadata": {
        "id": "CNGE33nHz_pc"
      }
    },
    {
      "cell_type": "code",
      "source": [
        "# Функция выбора доступного по времени файла\n",
        "def dir_hour(ch: int):\n",
        "    global d\n",
        "    if ch.__floordiv__(6) == 0:\n",
        "        d = '/00/atmos&file=gdas.t00z.pgrb2.0p25.'\n",
        "    elif ch.__floordiv__(6) == 1:\n",
        "        d = '/06/atmos&file=gdas.t06z.pgrb2.0p25.'\n",
        "    elif ch.__floordiv__(6) == 2:\n",
        "        d = '/12/atmos&file=gdas.t12z.pgrb2.0p25.'      #12 change 0\n",
        "    elif ch.__floordiv__(6) == 3:\n",
        "        d = '/18/atmos&file=gdas.t18z.pgrb2.0p25.'\n",
        "    else:\n",
        "        pass\n",
        "    return d\n",
        "#from myfunc import dir_hour\n",
        "#from my_func import dir_hour\n",
        "#a = H_t(240, 98000, 100000)\n",
        "#print(a)\n",
        "##b = dir_hour(current_hour)\n",
        "#print(b)"
      ],
      "metadata": {
        "id": "ptcEbOjj6ON6"
      },
      "execution_count": 36,
      "outputs": []
    },
    {
      "cell_type": "markdown",
      "source": [
        "Формируем адрес для скачки файла *.grib2"
      ],
      "metadata": {
        "id": "e1pV0wNY8qYs"
      }
    },
    {
      "cell_type": "code",
      "source": [
        "thttp = 'https://nomads.ncep.noaa.gov/cgi-bin/filter_gdas_0p25.pl?dir=/gdas.'\n",
        "t_dir = date + dir_hour(current_hour) + 'f009'\n",
        "t_ptuv = '&var_PRMSL=on&var_TMP=on&var_UGRD=on&var_VGRD=on'\n",
        "t_level = '&lev_mean_sea_level=on&lev_1000_mb=on&lev_975_mb=on&lev_950_mb=on&lev_925_mb=on&lev_900_mb=on&lev_850_mb=on&lev_800_mb=on&lev_750_mb=on&lev_700_mb=on&lev_650_mb=on&lev_600_mb=on&lev_550_mb=on&lev_500_mb=on'\n",
        "t_region = '&subregion=&toplat=' + lat_max + '&leftlon=' + lon_min + '&rightlon=' + lon_max + '&bottomlat=' + lat_min\n",
        "\n",
        "url = thttp + t_dir + t_ptuv + t_level + t_region\n",
        "print(url)\n"
      ],
      "metadata": {
        "colab": {
          "base_uri": "https://localhost:8080/"
        },
        "id": "kCevX-Vl8reu",
        "outputId": "d3d736d0-ebbc-4f16-870c-2b1f5342f7b5"
      },
      "execution_count": 37,
      "outputs": [
        {
          "output_type": "stream",
          "name": "stdout",
          "text": [
            "https://nomads.ncep.noaa.gov/cgi-bin/filter_gdas_0p25.pl?dir=/gdas.20231212/06/atmos&file=gdas.t06z.pgrb2.0p25.f009&var_PRMSL=on&var_TMP=on&var_UGRD=on&var_VGRD=on&lev_mean_sea_level=on&lev_1000_mb=on&lev_975_mb=on&lev_950_mb=on&lev_925_mb=on&lev_900_mb=on&lev_850_mb=on&lev_800_mb=on&lev_750_mb=on&lev_700_mb=on&lev_650_mb=on&lev_600_mb=on&lev_550_mb=on&lev_500_mb=on&subregion=&toplat=70.25&leftlon=39.25&rightlon=39.5&bottomlat=70.0\n"
          ]
        }
      ]
    },
    {
      "cell_type": "markdown",
      "source": [
        "Проверяем наличие запрошенной версии. Если ее нет, сдвигаемся на 6 часов и скачиваем"
      ],
      "metadata": {
        "id": "gndARZ3PC0K4"
      }
    },
    {
      "cell_type": "code",
      "source": [
        "req = urllib.request.Request(url)\n",
        "\n",
        "try:\n",
        "    urllib.request.urlopen(req)\n",
        "except urllib.error.URLError as e:\n",
        "    if e.reason != 'Not Found':\n",
        "        print('check the http')\n",
        "    elif e.reason == 'Not Found':\n",
        "        print('minus 06')\n",
        "        current_hour = current_hour - 6\n",
        "        t_dir = date + dir_hour(current_hour) + 'f009'\n",
        "        url = thttp + t_dir + t_ptuv + t_level + t_region\n",
        "        print(url)\n",
        "    else:\n",
        "        pass\n",
        "# urllib.request.urlretrieve(url, 'tmp.grib2')\n",
        "file, headers = urllib.request.urlretrieve(url)\n",
        "grbs = pygrib.open(file)"
      ],
      "metadata": {
        "id": "iBR75DF-C057"
      },
      "execution_count": 38,
      "outputs": []
    },
    {
      "cell_type": "markdown",
      "source": [
        "Структура файла *.grib2 (открыт файл как grbs) - демо по широтам и долготам (ячейку можно не исполнять, если структура файла понятна, это просто демо)"
      ],
      "metadata": {
        "id": "-frJFBuPKlsK"
      }
    },
    {
      "cell_type": "code",
      "source": [
        "import pprint\n",
        "print('Широты ячейки = ')\n",
        "pprint.pprint(grbs[1].latlons()[0])\n",
        "print(grbs[1].latlons()[0][0][0], grbs[1].latlons()[0][0][1], grbs[1].latlons()[0][1][0], grbs[1].latlons()[0][1][1])\n",
        "print('Долготы ячейки = ')\n",
        "pprint.pprint(grbs[1].latlons()[1])\n",
        "print(grbs[1].latlons()[1][0][0], grbs[1].latlons()[1][0][1], grbs[1].latlons()[1][1][0], grbs[1].latlons()[1][1][1])"
      ],
      "metadata": {
        "id": "xWlnhWGPPMwZ"
      },
      "execution_count": null,
      "outputs": []
    },
    {
      "cell_type": "markdown",
      "source": [
        "Структура файла *.grib2 (открыт файл как grbs) - демо по температуре, широтному и меридиональному ветру (тоже можно не исполнять, если структура файла понятна)"
      ],
      "metadata": {
        "id": "vmrIOAdDRMVn"
      }
    },
    {
      "cell_type": "code",
      "source": [
        "i = 2          # i/P: 1/sea_level, 2/50000Pa, 5/55000, 8/60000, 11/65000, ..., 35/97500, 38/100000\n",
        "print(grbs[i])\n",
        "print(grbs[i + 1])\n",
        "print(grbs[i + 2])\n",
        "pprint.pprint(grbs[i].values)\n",
        "print(grbs[i].values[0][0], grbs[i].values[0][1], grbs[i].values[1][0], grbs[i].values[1][1], )\n",
        "pprint.pprint(grbs[i + 1].values)\n",
        "pprint.pprint(grbs[i + 2].values)"
      ],
      "metadata": {
        "colab": {
          "base_uri": "https://localhost:8080/"
        },
        "id": "BIMPcr14ITwo",
        "outputId": "89f9dd0f-4392-4d59-ef2b-1a0f5ae882b2"
      },
      "execution_count": 40,
      "outputs": [
        {
          "output_type": "stream",
          "name": "stdout",
          "text": [
            "2:Temperature:K (instant):regular_ll:isobaricInhPa:level 50000 Pa:fcst time 9 hrs:from 202312120600\n",
            "3:U component of wind:m s**-1 (instant):regular_ll:isobaricInhPa:level 50000 Pa:fcst time 9 hrs:from 202312120600\n",
            "4:V component of wind:m s**-1 (instant):regular_ll:isobaricInhPa:level 50000 Pa:fcst time 9 hrs:from 202312120600\n",
            "array([[239.44171875, 239.42171875],\n",
            "       [239.33171875, 239.30171875]])\n",
            "239.44171875 239.42171875 239.33171875 239.30171875\n",
            "array([[ 8.45200806,  8.45200806],\n",
            "       [10.85200806, 10.85200806]])\n",
            "array([[-4.62028809, -4.72028809],\n",
            "       [-4.62028809, -4.82028809]])\n"
          ]
        }
      ]
    },
    {
      "cell_type": "markdown",
      "source": [
        "Реальный счет массива"
      ],
      "metadata": {
        "id": "KVu70sTaT-MW"
      }
    },
    {
      "cell_type": "code",
      "source": [
        "msg = grbs[1]\n",
        "coord_vals = msg.latlons()                         # Печатаем заголовок, хотя нужен ли он?\n",
        "print(\"[hp]\", \\\n",
        "      \"[\", coord_vals[0][0, 0], \"/\", coord_vals[1][0, 0], \"]\", \\\n",
        "      \"[\", coord_vals[0][0, 1], \"/\", coord_vals[1][0, 1], \"]\", \\\n",
        "      \"[\", coord_vals[0][1, 0], \"/\", coord_vals[1][1, 0], \"]\", \\\n",
        "      \"[\", coord_vals[0][1, 1], \"/\", coord_vals[1][1, 1], \"]\")\n",
        "\n",
        "print(grbs[1].values)                     # Давление на уровне моря в вершинах координатной ячейки"
      ],
      "metadata": {
        "id": "M198LMUuUnu-"
      },
      "execution_count": null,
      "outputs": []
    },
    {
      "cell_type": "markdown",
      "source": [
        "Читаем температурные кортежи-четверки (в углах координатной ячейки)"
      ],
      "metadata": {
        "id": "7XFml5aMhUa8"
      }
    },
    {
      "cell_type": "code",
      "source": [
        "t_klv = np.zeros(52).reshape((13, 2, 2))\n",
        "\n",
        "for i in range(1, 14):\n",
        "    t_klv[[i - 1]] = grbs[41 - 3 * i].values   # Температура (К) от высоты Р = 100.000 и вверх до Р =50.000\n",
        "pprint.pprint(t_klv)\n",
        "print(t_klv[0][0][0])                          # Угловые элементы, просто проверка\n",
        "print(t_klv[12][1][1])"
      ],
      "metadata": {
        "id": "vDf6WPxkdA4r"
      },
      "execution_count": null,
      "outputs": []
    },
    {
      "cell_type": "markdown",
      "source": [
        "Читаем стандартную линейку давлений (100.000 - 50.000) и кортеж давлений на уровне моря в координатной ячейке"
      ],
      "metadata": {
        "id": "rC8fAdfNhAno"
      }
    },
    {
      "cell_type": "code",
      "source": [
        "p_lin = np.zeros(13)\n",
        "for i in range(1, 14):\n",
        "    p: int = str(grbs[3*i-1]).find('Pa:fcst')\n",
        "    p_lin[14 - i - 1] = float(str(grbs[3*i-1])[p-7:p-1])                  # индекс в обратном порядке, так удобнее\n",
        "pprint.pprint(p_lin)\n",
        "\n",
        "p_sea_level = grbs[1].values                                              # Давление на уровне моря в координатной ячейке\n",
        "print(p_sea_level)"
      ],
      "metadata": {
        "id": "oloySDCbzVCD"
      },
      "execution_count": null,
      "outputs": []
    },
    {
      "cell_type": "markdown",
      "source": [
        "Пересчет давлений в высоты (Pa ==> metres)"
      ],
      "metadata": {
        "id": "mfvBOEp3rEqG"
      }
    },
    {
      "cell_type": "code",
      "source": [
        "p_div_p0 = np.zeros(52).reshape((13, 2, 2))\n",
        "for i in range(13):\n",
        "    p_div_p0[i] = p_lin[i] / p_sea_level\n",
        "\n",
        "h_tp = np.zeros(52).reshape((13, 2, 2))\n",
        "h_tp = -29.21 * t_klv * np.log(p_div_p0)\n",
        "\n",
        "pprint.pprint(h_tp)\n",
        "print(h_tp[0][0][0])                          # Угловые элементы, просто проверка\n",
        "print(h_tp[12][1][1])"
      ],
      "metadata": {
        "id": "pHRjtPdHrBWc"
      },
      "execution_count": null,
      "outputs": []
    },
    {
      "cell_type": "markdown",
      "source": [
        "Читаем ветровые (широтные) кортежи-четверки (в углах координатной ячейки)"
      ],
      "metadata": {
        "id": "bSSA5P17k674"
      }
    },
    {
      "cell_type": "code",
      "source": [
        "u_lat =np.zeros(52).reshape((13, 2, 2))\n",
        "\n",
        "for i in range(1, 14):\n",
        "    u_lat[[i - 1]] = grbs[42 - 3 * i].values   # Широтная составляющая ветра от высоты Р = 100.000 и вверх до Р =50.000\n",
        "pprint.pprint(u_lat)\n",
        "print(u_lat[0][0][0])                          # Угловые элементы, просто проверка\n",
        "print(u_lat[12][1][1])"
      ],
      "metadata": {
        "id": "RS9btv3-ikM2"
      },
      "execution_count": null,
      "outputs": []
    },
    {
      "cell_type": "markdown",
      "source": [
        "Читаем ветровые (меридиональные) кортежи-четверки (в углах координатной ячейки)"
      ],
      "metadata": {
        "id": "MbgyaJk9lCuR"
      }
    },
    {
      "cell_type": "code",
      "source": [
        "v_lon =np.zeros(52).reshape((13, 2, 2))\n",
        "\n",
        "for i in range(1, 14):\n",
        "    v_lon[[i - 1]] = grbs[43 - 3 * i].values   # Меридиональная составляющая ветра от высоты Р = 100.000 и вверх до Р =50.000\n",
        "pprint.pprint(v_lon)\n",
        "print(v_lon[0][0][0])                          # Угловые элементы, просто проверка\n",
        "print(v_lon[12][1][1])"
      ],
      "metadata": {
        "id": "yT8UKtZ2kFAr"
      },
      "execution_count": null,
      "outputs": []
    },
    {
      "cell_type": "markdown",
      "source": [],
      "metadata": {
        "id": "noSolExWLPk1"
      }
    }
  ],
  "metadata": {
    "colab": {
      "provenance": [],
      "toc_visible": true,
      "authorship_tag": "ABX9TyOLd+n351FImXHnz23pnNp1",
      "include_colab_link": true
    },
    "kernelspec": {
      "display_name": "Python 3",
      "name": "python3"
    },
    "language_info": {
      "name": "python"
    }
  },
  "nbformat": 4,
  "nbformat_minor": 0
}